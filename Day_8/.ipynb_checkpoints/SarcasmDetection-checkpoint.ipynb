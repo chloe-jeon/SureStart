{
 "cells": [
  {
   "cell_type": "code",
   "execution_count": 1,
   "metadata": {
    "colab": {
     "base_uri": "https://localhost:8080/"
    },
    "id": "XPD6Gr33whqd",
    "outputId": "57c1f9aa-c0b8-4708-c9a7-483d1af052f2"
   },
   "outputs": [
    {
     "name": "stdout",
     "output_type": "stream",
     "text": [
      "Archive:  Sarcasm_Headlines_Dataset.json.zip\n",
      "  inflating: Sarcasm_Headlines_Dataset.json  \n"
     ]
    }
   ],
   "source": [
    "! unzip Sarcasm_Headlines_Dataset.json.zip"
   ]
  },
  {
   "cell_type": "code",
   "execution_count": 2,
   "metadata": {
    "id": "KpPzpWkNxCL_"
   },
   "outputs": [],
   "source": [
    "import pandas as pd\n",
    "import seaborn as sns\n",
    "import numpy as np\n",
    "from keras.preprocessing.text import Tokenizer\n",
    "from keras.preprocessing import sequence\n",
    "from sklearn.model_selection import train_test_split\n",
    "from keras.layers import LSTM, Activation, Dense, Dropout, Input, Embedding\n",
    "from keras.optimizers import RMSprop\n",
    "from keras.models import Model\n",
    "import matplotlib.pyplot as plt"
   ]
  },
  {
   "cell_type": "code",
   "execution_count": 3,
   "metadata": {
    "colab": {
     "base_uri": "https://localhost:8080/",
     "height": 204
    },
    "id": "r77lD1k3y5sQ",
    "outputId": "2a5480e1-55de-472c-afc4-37f04951f743"
   },
   "outputs": [
    {
     "data": {
      "text/html": [
       "<div>\n",
       "<style scoped>\n",
       "    .dataframe tbody tr th:only-of-type {\n",
       "        vertical-align: middle;\n",
       "    }\n",
       "\n",
       "    .dataframe tbody tr th {\n",
       "        vertical-align: top;\n",
       "    }\n",
       "\n",
       "    .dataframe thead th {\n",
       "        text-align: right;\n",
       "    }\n",
       "</style>\n",
       "<table border=\"1\" class=\"dataframe\">\n",
       "  <thead>\n",
       "    <tr style=\"text-align: right;\">\n",
       "      <th></th>\n",
       "      <th>article_link</th>\n",
       "      <th>headline</th>\n",
       "      <th>is_sarcastic</th>\n",
       "    </tr>\n",
       "  </thead>\n",
       "  <tbody>\n",
       "    <tr>\n",
       "      <th>0</th>\n",
       "      <td>https://www.huffingtonpost.com/entry/versace-b...</td>\n",
       "      <td>former versace store clerk sues over secret 'b...</td>\n",
       "      <td>0</td>\n",
       "    </tr>\n",
       "    <tr>\n",
       "      <th>1</th>\n",
       "      <td>https://www.huffingtonpost.com/entry/roseanne-...</td>\n",
       "      <td>the 'roseanne' revival catches up to our thorn...</td>\n",
       "      <td>0</td>\n",
       "    </tr>\n",
       "    <tr>\n",
       "      <th>2</th>\n",
       "      <td>https://local.theonion.com/mom-starting-to-fea...</td>\n",
       "      <td>mom starting to fear son's web series closest ...</td>\n",
       "      <td>1</td>\n",
       "    </tr>\n",
       "    <tr>\n",
       "      <th>3</th>\n",
       "      <td>https://politics.theonion.com/boehner-just-wan...</td>\n",
       "      <td>boehner just wants wife to listen, not come up...</td>\n",
       "      <td>1</td>\n",
       "    </tr>\n",
       "    <tr>\n",
       "      <th>4</th>\n",
       "      <td>https://www.huffingtonpost.com/entry/jk-rowlin...</td>\n",
       "      <td>j.k. rowling wishes snape happy birthday in th...</td>\n",
       "      <td>0</td>\n",
       "    </tr>\n",
       "  </tbody>\n",
       "</table>\n",
       "</div>"
      ],
      "text/plain": [
       "                                        article_link  ... is_sarcastic\n",
       "0  https://www.huffingtonpost.com/entry/versace-b...  ...            0\n",
       "1  https://www.huffingtonpost.com/entry/roseanne-...  ...            0\n",
       "2  https://local.theonion.com/mom-starting-to-fea...  ...            1\n",
       "3  https://politics.theonion.com/boehner-just-wan...  ...            1\n",
       "4  https://www.huffingtonpost.com/entry/jk-rowlin...  ...            0\n",
       "\n",
       "[5 rows x 3 columns]"
      ]
     },
     "execution_count": 3,
     "metadata": {
      "tags": []
     },
     "output_type": "execute_result"
    }
   ],
   "source": [
    "df = pd.read_json(\"Sarcasm_Headlines_Dataset.json\", lines=True)\n",
    "df.head()"
   ]
  },
  {
   "cell_type": "code",
   "execution_count": 4,
   "metadata": {
    "colab": {
     "base_uri": "https://localhost:8080/",
     "height": 297
    },
    "id": "ZA5HREdOzgEO",
    "outputId": "2ce8f66f-503f-4586-90d9-82b178ba40cf"
   },
   "outputs": [
    {
     "data": {
      "text/plain": [
       "<matplotlib.axes._subplots.AxesSubplot at 0x7ff5dc5686d0>"
      ]
     },
     "execution_count": 4,
     "metadata": {
      "tags": []
     },
     "output_type": "execute_result"
    },
    {
     "data": {
      "image/png": "[encoded data removed]",
      "text/plain": [
       "<Figure size 432x288 with 1 Axes>"
      ]
     },
     "metadata": {
      "needs_background": "light",
      "tags": []
     },
     "output_type": "display_data"
    }
   ],
   "source": [
    "sns.countplot(x='is_sarcastic', data=df)"
   ]
  },
  {
   "cell_type": "code",
   "execution_count": 5,
   "metadata": {
    "colab": {
     "base_uri": "https://localhost:8080/"
    },
    "id": "bXy9BTEA0v7A",
    "outputId": "0bd9b1d9-c01e-4d51-e605-495b349896dd"
   },
   "outputs": [
    {
     "name": "stdout",
     "output_type": "stream",
     "text": [
      "0    14985\n",
      "1    11724\n",
      "Name: is_sarcastic, dtype: int64\n",
      "----------------------------------\n",
      "total = 26709\n"
     ]
    }
   ],
   "source": [
    "print(df.is_sarcastic.value_counts())\n",
    "print('----------------------------------')\n",
    "print('total = ' + str(len(df.is_sarcastic)))"
   ]
  },
  {
   "cell_type": "code",
   "execution_count": 6,
   "metadata": {
    "colab": {
     "base_uri": "https://localhost:8080/"
    },
    "id": "4ghh7Qot1D8M",
    "outputId": "0a77fdaa-2161-4a6a-f381-422babe8a150"
   },
   "outputs": [
    {
     "name": "stdout",
     "output_type": "stream",
     "text": [
      "x\n",
      "0        former versace store clerk sues over secret 'b...\n",
      "1        the 'roseanne' revival catches up to our thorn...\n",
      "2        mom starting to fear son's web series closest ...\n",
      "3        boehner just wants wife to listen, not come up...\n",
      "4        j.k. rowling wishes snape happy birthday in th...\n",
      "                               ...                        \n",
      "26704                 american politics in moral free-fall\n",
      "26705                              america's best 20 hikes\n",
      "26706                                reparations and obama\n",
      "26707    israeli ban targeting boycott supporters raise...\n",
      "26708                    gourmet gifts for the foodie 2014\n",
      "Name: headline, Length: 26709, dtype: object\n",
      "y\n",
      "0        0\n",
      "1        0\n",
      "2        1\n",
      "3        1\n",
      "4        0\n",
      "        ..\n",
      "26704    0\n",
      "26705    0\n",
      "26706    0\n",
      "26707    0\n",
      "26708    0\n",
      "Name: is_sarcastic, Length: 26709, dtype: int64\n"
     ]
    }
   ],
   "source": [
    "x = df.iloc[:,1]\n",
    "y = df.iloc[:,2]\n",
    "print('x')\n",
    "print(x)\n",
    "print('y')\n",
    "print(y)"
   ]
  },
  {
   "cell_type": "code",
   "execution_count": 7,
   "metadata": {
    "colab": {
     "base_uri": "https://localhost:8080/"
    },
    "id": "6vF1xujT2KYz",
    "outputId": "ddbffd72-9d05-447c-a058-e56ad798d0d8"
   },
   "outputs": [
    {
     "name": "stdout",
     "output_type": "stream",
     "text": [
      "21367\n",
      "5342\n",
      "21367\n",
      "5342\n"
     ]
    }
   ],
   "source": [
    "x_train, x_test, y_train, y_test = train_test_split(x, y, test_size = 0.2)\n",
    "print(len(x_train))\n",
    "print(len(x_test))\n",
    "print(len(y_train))\n",
    "print(len(y_test))"
   ]
  },
  {
   "cell_type": "code",
   "execution_count": 8,
   "metadata": {
    "colab": {
     "base_uri": "https://localhost:8080/"
    },
    "id": "lT_ArTzC2jGU",
    "outputId": "0ee5c821-13d8-4c8c-949e-d7ff8ac56d40"
   },
   "outputs": [
    {
     "data": {
      "text/plain": [
       "(21367, 150)"
      ]
     },
     "execution_count": 8,
     "metadata": {
      "tags": []
     },
     "output_type": "execute_result"
    }
   ],
   "source": [
    "max_wrd = 1000\n",
    "max_len = 150\n",
    "tok = Tokenizer(num_words = max_wrd)\n",
    "tok.fit_on_texts(x_train)\n",
    "sequences = tok.texts_to_sequences(x_train)\n",
    "sequences_matrix = sequence.pad_sequences(sequences, maxlen = max_len)\n",
    "sequences_matrix.shape"
   ]
  },
  {
   "cell_type": "code",
   "execution_count": 9,
   "metadata": {
    "colab": {
     "base_uri": "https://localhost:8080/"
    },
    "id": "MQNhibRw34Zx",
    "outputId": "fbb92ab6-e8b6-474f-d3c9-7467fedc44bc"
   },
   "outputs": [
    {
     "data": {
      "text/plain": [
       "array([[  0,   0,   0, ...,   8,  95, 130],\n",
       "       [  0,   0,   0, ...,   7, 232, 151],\n",
       "       [  0,   0,   0, ..., 194,   9, 260],\n",
       "       ...,\n",
       "       [  0,   0,   0, ..., 456,   2,  31],\n",
       "       [  0,   0,   0, ...,  52, 193, 134],\n",
       "       [  0,   0,   0, ...,   7,  30,  60]], dtype=int32)"
      ]
     },
     "execution_count": 9,
     "metadata": {
      "tags": []
     },
     "output_type": "execute_result"
    }
   ],
   "source": [
    "sequences_matrix"
   ]
  },
  {
   "cell_type": "code",
   "execution_count": 10,
   "metadata": {
    "colab": {
     "base_uri": "https://localhost:8080/"
    },
    "id": "-c_hoF9U3_Ky",
    "outputId": "5fc34ae1-ec8c-489c-aad7-59d0263adaa0"
   },
   "outputs": [
    {
     "data": {
      "text/plain": [
       "999"
      ]
     },
     "execution_count": 10,
     "metadata": {
      "tags": []
     },
     "output_type": "execute_result"
    }
   ],
   "source": [
    "np.amax(sequences_matrix)"
   ]
  },
  {
   "cell_type": "code",
   "execution_count": 11,
   "metadata": {
    "id": "PvlTvBby4U8Y"
   },
   "outputs": [],
   "source": [
    "def RNN():\n",
    "  inputs = Input(name='inputs', shape=[max_len])\n",
    "  embed = Embedding(max_wrd, 50, input_length = max_len)(inputs) #50 is the output dimension of the embeddings\n",
    "  lstm = LSTM(64)(embed)\n",
    "  dense1 = Dense(256, name='FC1')(lstm)\n",
    "  relu = Activation('relu')(dense1)\n",
    "  drop = Dropout(0.2)(relu)\n",
    "  dense2 = Dense(1, name = 'out_layer')(drop)\n",
    "  outputs = Activation('sigmoid')(dense2)\n",
    "  model = Model(inputs = inputs, outputs = outputs)\n",
    "  return model"
   ]
  },
  {
   "cell_type": "code",
   "execution_count": 13,
   "metadata": {
    "colab": {
     "base_uri": "https://localhost:8080/"
    },
    "id": "f_Jv2we2562a",
    "outputId": "6e7913bd-bf4b-4aef-d083-a783bc55017c"
   },
   "outputs": [
    {
     "name": "stdout",
     "output_type": "stream",
     "text": [
      "Model: \"model\"\n",
      "_________________________________________________________________\n",
      "Layer (type)                 Output Shape              Param #   \n",
      "=================================================================\n",
      "inputs (InputLayer)          [(None, 150)]             0         \n",
      "_________________________________________________________________\n",
      "embedding_1 (Embedding)      (None, 150, 50)           50000     \n",
      "_________________________________________________________________\n",
      "lstm (LSTM)                  (None, 64)                29440     \n",
      "_________________________________________________________________\n",
      "FC1 (Dense)                  (None, 256)               16640     \n",
      "_________________________________________________________________\n",
      "activation (Activation)      (None, 256)               0         \n",
      "_________________________________________________________________\n",
      "dropout (Dropout)            (None, 256)               0         \n",
      "_________________________________________________________________\n",
      "out_layer (Dense)            (None, 1)                 257       \n",
      "_________________________________________________________________\n",
      "activation_1 (Activation)    (None, 1)                 0         \n",
      "=================================================================\n",
      "Total params: 96,337\n",
      "Trainable params: 96,337\n",
      "Non-trainable params: 0\n",
      "_________________________________________________________________\n"
     ]
    }
   ],
   "source": [
    "model = RNN()\n",
    "model.summary()\n",
    "model.compile(loss = 'binary_crossentropy', optimizer = RMSprop(), metrics = ['accuracy'])"
   ]
  },
  {
   "cell_type": "code",
   "execution_count": 39,
   "metadata": {
    "colab": {
     "base_uri": "https://localhost:8080/"
    },
    "id": "ftv20NhP6eXW",
    "outputId": "2802a149-f283-428f-a22b-144fd370cfdc"
   },
   "outputs": [
    {
     "name": "stdout",
     "output_type": "stream",
     "text": [
      "Epoch 1/50\n",
      "193/193 [==============================] - 5s 15ms/step - loss: 0.5429 - accuracy: 0.6984 - val_loss: 0.4034 - val_accuracy: 0.8133\n",
      "Epoch 2/50\n",
      "193/193 [==============================] - 2s 12ms/step - loss: 0.3799 - accuracy: 0.8315 - val_loss: 0.4748 - val_accuracy: 0.7688\n",
      "Epoch 3/50\n",
      "193/193 [==============================] - 2s 13ms/step - loss: 0.8634 - accuracy: 0.7572 - val_loss: 0.4206 - val_accuracy: 0.8095\n",
      "Epoch 4/50\n",
      "193/193 [==============================] - 2s 12ms/step - loss: 0.3874 - accuracy: 0.8285 - val_loss: 0.4210 - val_accuracy: 0.7861\n",
      "Epoch 5/50\n",
      "193/193 [==============================] - 2s 13ms/step - loss: 0.3665 - accuracy: 0.8382 - val_loss: 0.3937 - val_accuracy: 0.8269\n",
      "Epoch 6/50\n",
      "193/193 [==============================] - 2s 12ms/step - loss: 0.3246 - accuracy: 0.8561 - val_loss: 0.4010 - val_accuracy: 0.8180\n",
      "Epoch 7/50\n",
      "193/193 [==============================] - 2s 12ms/step - loss: 0.3204 - accuracy: 0.8559 - val_loss: 0.3908 - val_accuracy: 0.8278\n",
      "Epoch 8/50\n",
      "193/193 [==============================] - 2s 12ms/step - loss: 0.3185 - accuracy: 0.8589 - val_loss: 0.3948 - val_accuracy: 0.8152\n",
      "Epoch 9/50\n",
      "193/193 [==============================] - 2s 12ms/step - loss: 0.3148 - accuracy: 0.8587 - val_loss: 0.4159 - val_accuracy: 0.8241\n",
      "Epoch 10/50\n",
      "193/193 [==============================] - 2s 12ms/step - loss: 0.3059 - accuracy: 0.8630 - val_loss: 0.3983 - val_accuracy: 0.8283\n",
      "Epoch 11/50\n",
      "193/193 [==============================] - 2s 12ms/step - loss: 0.3061 - accuracy: 0.8604 - val_loss: 0.4202 - val_accuracy: 0.8175\n",
      "Epoch 12/50\n",
      "193/193 [==============================] - 2s 12ms/step - loss: 0.2909 - accuracy: 0.8711 - val_loss: 0.4119 - val_accuracy: 0.8222\n",
      "Epoch 13/50\n",
      "193/193 [==============================] - 2s 12ms/step - loss: 0.2842 - accuracy: 0.8733 - val_loss: 0.4414 - val_accuracy: 0.8283\n",
      "Epoch 14/50\n",
      "193/193 [==============================] - 2s 12ms/step - loss: 0.2843 - accuracy: 0.8740 - val_loss: 0.4646 - val_accuracy: 0.8269\n",
      "Epoch 15/50\n",
      "193/193 [==============================] - 2s 11ms/step - loss: 0.2681 - accuracy: 0.8818 - val_loss: 0.4435 - val_accuracy: 0.8095\n",
      "Epoch 16/50\n",
      "193/193 [==============================] - 2s 12ms/step - loss: 0.2630 - accuracy: 0.8846 - val_loss: 0.4479 - val_accuracy: 0.8119\n",
      "Epoch 17/50\n",
      "193/193 [==============================] - 2s 12ms/step - loss: 0.2485 - accuracy: 0.8905 - val_loss: 0.4675 - val_accuracy: 0.8161\n",
      "Epoch 18/50\n",
      "193/193 [==============================] - 2s 11ms/step - loss: 0.2478 - accuracy: 0.8906 - val_loss: 0.4554 - val_accuracy: 0.8226\n",
      "Epoch 19/50\n",
      "193/193 [==============================] - 2s 12ms/step - loss: 0.2322 - accuracy: 0.8985 - val_loss: 0.4729 - val_accuracy: 0.8138\n",
      "Epoch 20/50\n",
      "193/193 [==============================] - 2s 11ms/step - loss: 0.2301 - accuracy: 0.8997 - val_loss: 0.4653 - val_accuracy: 0.8044\n",
      "Epoch 21/50\n",
      "193/193 [==============================] - 2s 11ms/step - loss: 0.2299 - accuracy: 0.9002 - val_loss: 0.4989 - val_accuracy: 0.8100\n",
      "Epoch 22/50\n",
      "193/193 [==============================] - 2s 11ms/step - loss: 0.2105 - accuracy: 0.9099 - val_loss: 0.5282 - val_accuracy: 0.7660\n",
      "Epoch 23/50\n",
      "193/193 [==============================] - 2s 12ms/step - loss: 0.2100 - accuracy: 0.9112 - val_loss: 0.5259 - val_accuracy: 0.8175\n",
      "Epoch 24/50\n",
      "193/193 [==============================] - 2s 11ms/step - loss: 0.2010 - accuracy: 0.9146 - val_loss: 0.5742 - val_accuracy: 0.8091\n",
      "Epoch 25/50\n",
      "193/193 [==============================] - 2s 11ms/step - loss: 0.1947 - accuracy: 0.9161 - val_loss: 0.6224 - val_accuracy: 0.8091\n",
      "Epoch 26/50\n",
      "193/193 [==============================] - 2s 11ms/step - loss: 0.1909 - accuracy: 0.9193 - val_loss: 0.5855 - val_accuracy: 0.8077\n",
      "Epoch 27/50\n",
      "193/193 [==============================] - 2s 11ms/step - loss: 0.1852 - accuracy: 0.9253 - val_loss: 0.6519 - val_accuracy: 0.8007\n",
      "Epoch 28/50\n",
      "193/193 [==============================] - 2s 11ms/step - loss: 0.1699 - accuracy: 0.9283 - val_loss: 0.6506 - val_accuracy: 0.8138\n",
      "Epoch 29/50\n",
      "193/193 [==============================] - 2s 11ms/step - loss: 0.1577 - accuracy: 0.9368 - val_loss: 0.6340 - val_accuracy: 0.8025\n",
      "Epoch 30/50\n",
      "193/193 [==============================] - 2s 11ms/step - loss: 0.1638 - accuracy: 0.9317 - val_loss: 0.7891 - val_accuracy: 0.8100\n",
      "Epoch 31/50\n",
      "193/193 [==============================] - 2s 12ms/step - loss: 0.1552 - accuracy: 0.9357 - val_loss: 0.7071 - val_accuracy: 0.7941\n",
      "Epoch 32/50\n",
      "193/193 [==============================] - 2s 12ms/step - loss: 0.1492 - accuracy: 0.9397 - val_loss: 0.7835 - val_accuracy: 0.7922\n",
      "Epoch 33/50\n",
      "193/193 [==============================] - 2s 12ms/step - loss: 0.1463 - accuracy: 0.9392 - val_loss: 0.8131 - val_accuracy: 0.8016\n",
      "Epoch 34/50\n",
      "193/193 [==============================] - 2s 12ms/step - loss: 0.1378 - accuracy: 0.9415 - val_loss: 0.8600 - val_accuracy: 0.7829\n",
      "Epoch 35/50\n",
      "193/193 [==============================] - 2s 12ms/step - loss: 0.1285 - accuracy: 0.9463 - val_loss: 0.7942 - val_accuracy: 0.7885\n",
      "Epoch 36/50\n",
      "193/193 [==============================] - 2s 12ms/step - loss: 0.1285 - accuracy: 0.9458 - val_loss: 0.9598 - val_accuracy: 0.7922\n",
      "Epoch 37/50\n",
      "193/193 [==============================] - 2s 12ms/step - loss: 0.1272 - accuracy: 0.9491 - val_loss: 0.9743 - val_accuracy: 0.8002\n",
      "Epoch 38/50\n",
      "193/193 [==============================] - 2s 12ms/step - loss: 0.1167 - accuracy: 0.9511 - val_loss: 0.9795 - val_accuracy: 0.7955\n",
      "Epoch 39/50\n",
      "193/193 [==============================] - 2s 12ms/step - loss: 0.1097 - accuracy: 0.9549 - val_loss: 0.9067 - val_accuracy: 0.8007\n",
      "Epoch 40/50\n",
      "193/193 [==============================] - 2s 12ms/step - loss: 0.1069 - accuracy: 0.9558 - val_loss: 1.0306 - val_accuracy: 0.7899\n",
      "Epoch 41/50\n",
      "193/193 [==============================] - 2s 12ms/step - loss: 0.1069 - accuracy: 0.9564 - val_loss: 1.0715 - val_accuracy: 0.8039\n",
      "Epoch 42/50\n",
      "193/193 [==============================] - 2s 12ms/step - loss: 0.1004 - accuracy: 0.9552 - val_loss: 1.0853 - val_accuracy: 0.7978\n",
      "Epoch 43/50\n",
      "193/193 [==============================] - 2s 12ms/step - loss: 0.0935 - accuracy: 0.9591 - val_loss: 1.1585 - val_accuracy: 0.7815\n",
      "Epoch 44/50\n",
      "193/193 [==============================] - 2s 12ms/step - loss: 0.0951 - accuracy: 0.9618 - val_loss: 1.1858 - val_accuracy: 0.7969\n",
      "Epoch 45/50\n",
      "193/193 [==============================] - 2s 12ms/step - loss: 0.0866 - accuracy: 0.9637 - val_loss: 1.4063 - val_accuracy: 0.7978\n",
      "Epoch 46/50\n",
      "193/193 [==============================] - 2s 13ms/step - loss: 0.0861 - accuracy: 0.9644 - val_loss: 1.3957 - val_accuracy: 0.8002\n",
      "Epoch 47/50\n",
      "193/193 [==============================] - 2s 12ms/step - loss: 0.0802 - accuracy: 0.9648 - val_loss: 1.3093 - val_accuracy: 0.7866\n",
      "Epoch 48/50\n",
      "193/193 [==============================] - 2s 12ms/step - loss: 0.0756 - accuracy: 0.9681 - val_loss: 1.5063 - val_accuracy: 0.7871\n",
      "Epoch 49/50\n",
      "193/193 [==============================] - 2s 13ms/step - loss: 0.0753 - accuracy: 0.9697 - val_loss: 1.4893 - val_accuracy: 0.7880\n",
      "Epoch 50/50\n",
      "193/193 [==============================] - 2s 13ms/step - loss: 0.0692 - accuracy: 0.9708 - val_loss: 1.5556 - val_accuracy: 0.7927\n"
     ]
    }
   ],
   "source": [
    "history = model.fit(sequences_matrix, y_train,\n",
    "                    batch_size = 100, epochs = 50, validation_split = 0.1)"
   ]
  },
  {
   "cell_type": "code",
   "execution_count": 42,
   "metadata": {
    "colab": {
     "base_uri": "https://localhost:8080/",
     "height": 573
    },
    "id": "8w0eme5v66NO",
    "outputId": "efa3a7ee-4146-40cd-85ad-6595f1605d2a"
   },
   "outputs": [
    {
     "data": {
      "image/png": "[encoded data removed]",
      "text/plain": [
       "<Figure size 432x288 with 1 Axes>"
      ]
     },
     "metadata": {
      "needs_background": "light",
      "tags": []
     },
     "output_type": "display_data"
    },
    {
     "data": {
      "image/png": "[encoded data removed]",
      "text/plain": [
       "<Figure size 432x288 with 1 Axes>"
      ]
     },
     "metadata": {
      "needs_background": "light",
      "tags": []
     },
     "output_type": "display_data"
    }
   ],
   "source": [
    "fig = plt.figure()\n",
    "plt.plot(history.history['accuracy'])\n",
    "plt.plot(history.history['val_accuracy'])\n",
    "plt.title('model accuracy')\n",
    "plt.grid()\n",
    "plt.ylabel('accuracy')\n",
    "plt.xlabel('epoch')\n",
    "plt.legend(['train', 'validation'], loc='upper left')\n",
    "plt.show()\n",
    "\n",
    "fig = plt.figure()\n",
    "plt.plot(history.history['loss'])\n",
    "plt.plot(history.history['val_loss'])\n",
    "plt.title('model loss')\n",
    "plt.grid()\n",
    "plt.ylabel('loss')\n",
    "plt.xlabel('epoch')\n",
    "plt.legend(['train', 'validation'], loc='upper left')\n",
    "plt.show()"
   ]
  },
  {
   "cell_type": "code",
   "execution_count": 44,
   "metadata": {
    "colab": {
     "base_uri": "https://localhost:8080/"
    },
    "id": "0hsD8eGZ8bQn",
    "outputId": "6413c173-a7b8-45d3-d7a7-42a4e8c1649b"
   },
   "outputs": [
    {
     "data": {
      "text/plain": [
       "(5342, 150)"
      ]
     },
     "execution_count": 44,
     "metadata": {
      "tags": []
     },
     "output_type": "execute_result"
    }
   ],
   "source": [
    "test_sequences = tok.texts_to_sequences(x_test)\n",
    "test_sequences_matrix = sequence.pad_sequences(test_sequences, maxlen=max_len)\n",
    "test_sequences_matrix.shape"
   ]
  },
  {
   "cell_type": "code",
   "execution_count": 49,
   "metadata": {
    "colab": {
     "base_uri": "https://localhost:8080/"
    },
    "id": "Mf1RtfMb88tV",
    "outputId": "5a769c7b-20d1-43fc-a215-0ed97c57ac17"
   },
   "outputs": [
    {
     "name": "stdout",
     "output_type": "stream",
     "text": [
      "167/167 [==============================] - 1s 5ms/step - loss: 1.5647 - accuracy: 0.7857\n",
      "Test set\n",
      "Loss: 1.564742088317871\n",
      "Accuracy: 0.7856608033180237\n"
     ]
    }
   ],
   "source": [
    "accuracy = model.evaluate(test_sequences_matrix, y_test)\n",
    "print('Test set')\n",
    "print('Loss: ' + str(accuracy[0]))\n",
    "print('Accuracy: ' + str(accuracy[1]))"
   ]
  },
  {
   "cell_type": "code",
   "execution_count": 17,
   "metadata": {
    "colab": {
     "base_uri": "https://localhost:8080/"
    },
    "id": "2tKvMNhyBQwC",
    "outputId": "d6fbf0e8-e137-4210-e095-19201a8eb1e8"
   },
   "outputs": [
    {
     "name": "stdout",
     "output_type": "stream",
     "text": [
      "Model: \"model_2\"\n",
      "_________________________________________________________________\n",
      "Layer (type)                 Output Shape              Param #   \n",
      "=================================================================\n",
      "inputs (InputLayer)          [(None, 150)]             0         \n",
      "_________________________________________________________________\n",
      "embedding_3 (Embedding)      (None, 150, 50)           50000     \n",
      "_________________________________________________________________\n",
      "lstm_2 (LSTM)                (None, 64)                29440     \n",
      "_________________________________________________________________\n",
      "FC1 (Dense)                  (None, 256)               16640     \n",
      "_________________________________________________________________\n",
      "activation_4 (Activation)    (None, 256)               0         \n",
      "_________________________________________________________________\n",
      "dropout_2 (Dropout)          (None, 256)               0         \n",
      "_________________________________________________________________\n",
      "out_layer (Dense)            (None, 1)                 257       \n",
      "_________________________________________________________________\n",
      "activation_5 (Activation)    (None, 1)                 0         \n",
      "=================================================================\n",
      "Total params: 96,337\n",
      "Trainable params: 96,337\n",
      "Non-trainable params: 0\n",
      "_________________________________________________________________\n",
      "Epoch 1/10\n",
      "193/193 [==============================] - 5s 16ms/step - loss: 0.5549 - accuracy: 0.6927 - val_loss: 0.4031 - val_accuracy: 0.8063\n",
      "Epoch 2/10\n",
      "193/193 [==============================] - 2s 13ms/step - loss: 0.3814 - accuracy: 0.8247 - val_loss: 0.3925 - val_accuracy: 0.8217\n",
      "Epoch 3/10\n",
      "193/193 [==============================] - 2s 13ms/step - loss: 0.3687 - accuracy: 0.8360 - val_loss: 0.3873 - val_accuracy: 0.8273\n",
      "Epoch 4/10\n",
      "193/193 [==============================] - 2s 13ms/step - loss: 0.3481 - accuracy: 0.8444 - val_loss: 0.3788 - val_accuracy: 0.8329\n",
      "Epoch 5/10\n",
      "193/193 [==============================] - 3s 13ms/step - loss: 0.3340 - accuracy: 0.8551 - val_loss: 0.3759 - val_accuracy: 0.8358\n",
      "Epoch 6/10\n",
      "193/193 [==============================] - 2s 13ms/step - loss: 0.3307 - accuracy: 0.8501 - val_loss: 0.3771 - val_accuracy: 0.8320\n",
      "Epoch 7/10\n",
      "193/193 [==============================] - 2s 13ms/step - loss: 0.3199 - accuracy: 0.8591 - val_loss: 0.3737 - val_accuracy: 0.8367\n",
      "Epoch 8/10\n",
      "193/193 [==============================] - 2s 13ms/step - loss: 0.3138 - accuracy: 0.8623 - val_loss: 0.3823 - val_accuracy: 0.8353\n",
      "Epoch 9/10\n",
      "193/193 [==============================] - 3s 13ms/step - loss: 0.3091 - accuracy: 0.8659 - val_loss: 0.4141 - val_accuracy: 0.8329\n",
      "Epoch 10/10\n",
      "193/193 [==============================] - 3s 13ms/step - loss: 0.2929 - accuracy: 0.8723 - val_loss: 0.3891 - val_accuracy: 0.8329\n"
     ]
    }
   ],
   "source": [
    "model2 = RNN()\n",
    "model2.summary()\n",
    "model2.compile(loss = 'binary_crossentropy', optimizer = RMSprop(), metrics = ['accuracy'])\n",
    "history2 = model2.fit(sequences_matrix, y_train,\n",
    "                      batch_size = 100, epochs = 10, validation_split = 0.1)"
   ]
  },
  {
   "cell_type": "code",
   "execution_count": 18,
   "metadata": {
    "colab": {
     "base_uri": "https://localhost:8080/",
     "height": 573
    },
    "id": "dr-nvX2kBXlm",
    "outputId": "c4297bee-5a56-4c2f-ed4b-db5ef80b898c"
   },
   "outputs": [
    {
     "data": {
      "image/png": "[encoded data removed]",
      "text/plain": [
       "<Figure size 432x288 with 1 Axes>"
      ]
     },
     "metadata": {
      "needs_background": "light",
      "tags": []
     },
     "output_type": "display_data"
    },
    {
     "data": {
      "image/png": "[encoded data removed]",
      "text/plain": [
       "<Figure size 432x288 with 1 Axes>"
      ]
     },
     "metadata": {
      "needs_background": "light",
      "tags": []
     },
     "output_type": "display_data"
    }
   ],
   "source": [
    "fig = plt.figure()\n",
    "plt.plot(history2.history['accuracy'])\n",
    "plt.plot(history2.history['val_accuracy'])\n",
    "plt.title('model accuracy')\n",
    "plt.grid()\n",
    "plt.ylabel('accuracy')\n",
    "plt.xlabel('epoch')\n",
    "plt.legend(['train', 'validation'], loc='upper left')\n",
    "plt.show()\n",
    "\n",
    "fig = plt.figure()\n",
    "plt.plot(history2.history['loss'])\n",
    "plt.plot(history2.history['val_loss'])\n",
    "plt.title('model loss')\n",
    "plt.grid()\n",
    "plt.ylabel('loss')\n",
    "plt.xlabel('epoch')\n",
    "plt.legend(['train', 'validation'], loc='upper left')\n",
    "plt.show()"
   ]
  },
  {
   "cell_type": "code",
   "execution_count": 19,
   "metadata": {
    "colab": {
     "base_uri": "https://localhost:8080/"
    },
    "id": "H1z4N0uiBf-E",
    "outputId": "cfa656cb-1bf4-4e61-8761-130b40be8667"
   },
   "outputs": [
    {
     "name": "stdout",
     "output_type": "stream",
     "text": [
      "167/167 [==============================] - 1s 5ms/step - loss: 0.6935 - accuracy: 0.4272\n",
      "Test set\n",
      "Loss: 0.6934959888458252\n",
      "Accuracy: 0.42718082666397095\n"
     ]
    }
   ],
   "source": [
    "test_sequences = tok.texts_to_sequences(x_test)\n",
    "test_sequences_matrix = sequence.pad_sequences(test_sequences, maxlen=max_len)\n",
    "accuracy2 = model.evaluate(test_sequences_matrix, y_test)\n",
    "print('Test set')\n",
    "print('Loss: ' + str(accuracy2[0]))\n",
    "print('Accuracy: ' + str(accuracy2[1]))"
   ]
  },
  {
   "cell_type": "code",
   "execution_count": 14,
   "metadata": {
    "colab": {
     "base_uri": "https://localhost:8080/"
    },
    "id": "Lc7Lenk9WhrM",
    "outputId": "72dada64-8bae-4856-97a4-0c29d09c9b8e"
   },
   "outputs": [
    {
     "name": "stdout",
     "output_type": "stream",
     "text": [
      "Model: \"model_1\"\n",
      "_________________________________________________________________\n",
      "Layer (type)                 Output Shape              Param #   \n",
      "=================================================================\n",
      "inputs (InputLayer)          [(None, 150)]             0         \n",
      "_________________________________________________________________\n",
      "embedding_2 (Embedding)      (None, 150, 50)           50000     \n",
      "_________________________________________________________________\n",
      "lstm_1 (LSTM)                (None, 64)                29440     \n",
      "_________________________________________________________________\n",
      "FC1 (Dense)                  (None, 256)               16640     \n",
      "_________________________________________________________________\n",
      "activation_2 (Activation)    (None, 256)               0         \n",
      "_________________________________________________________________\n",
      "dropout_1 (Dropout)          (None, 256)               0         \n",
      "_________________________________________________________________\n",
      "out_layer (Dense)            (None, 1)                 257       \n",
      "_________________________________________________________________\n",
      "activation_3 (Activation)    (None, 1)                 0         \n",
      "=================================================================\n",
      "Total params: 96,337\n",
      "Trainable params: 96,337\n",
      "Non-trainable params: 0\n",
      "_________________________________________________________________\n",
      "Epoch 1/5\n",
      "193/193 [==============================] - 26s 16ms/step - loss: 0.5825 - accuracy: 0.6750 - val_loss: 0.3925 - val_accuracy: 0.8189\n",
      "Epoch 2/5\n",
      "193/193 [==============================] - 2s 12ms/step - loss: 0.3841 - accuracy: 0.8237 - val_loss: 0.3956 - val_accuracy: 0.8156\n",
      "Epoch 3/5\n",
      "193/193 [==============================] - 2s 13ms/step - loss: 0.3640 - accuracy: 0.8363 - val_loss: 0.3983 - val_accuracy: 0.8245\n",
      "Epoch 4/5\n",
      "193/193 [==============================] - 3s 13ms/step - loss: 0.3491 - accuracy: 0.8464 - val_loss: 0.3852 - val_accuracy: 0.8241\n",
      "Epoch 5/5\n",
      "193/193 [==============================] - 2s 13ms/step - loss: 0.3429 - accuracy: 0.8518 - val_loss: 0.3836 - val_accuracy: 0.8273\n"
     ]
    }
   ],
   "source": [
    "model3 = RNN()\n",
    "model3.summary()\n",
    "model3.compile(loss = 'binary_crossentropy', optimizer = RMSprop(), metrics = ['accuracy'])\n",
    "history3 = model3.fit(sequences_matrix, y_train,\n",
    "                      batch_size = 100, epochs = 5, validation_split = 0.1)"
   ]
  },
  {
   "cell_type": "code",
   "execution_count": 15,
   "metadata": {
    "colab": {
     "base_uri": "https://localhost:8080/",
     "height": 573
    },
    "id": "Eb5jPr1eWmG0",
    "outputId": "6b14fcff-1a60-4c08-b4af-3ad8ac745253"
   },
   "outputs": [
    {
     "data": {
      "image/png": "[encoded data removed]",
      "text/plain": [
       "<Figure size 432x288 with 1 Axes>"
      ]
     },
     "metadata": {
      "needs_background": "light",
      "tags": []
     },
     "output_type": "display_data"
    },
    {
     "data": {
      "image/png": "[encoded data removed]",
      "text/plain": [
       "<Figure size 432x288 with 1 Axes>"
      ]
     },
     "metadata": {
      "needs_background": "light",
      "tags": []
     },
     "output_type": "display_data"
    }
   ],
   "source": [
    "fig = plt.figure()\n",
    "plt.plot(history3.history['accuracy'])\n",
    "plt.plot(history3.history['val_accuracy'])\n",
    "plt.title('model accuracy')\n",
    "plt.grid()\n",
    "plt.ylabel('accuracy')\n",
    "plt.xlabel('epoch')\n",
    "plt.legend(['train', 'validation'], loc='upper left')\n",
    "plt.show()\n",
    "\n",
    "fig = plt.figure()\n",
    "plt.plot(history3.history['loss'])\n",
    "plt.plot(history3.history['val_loss'])\n",
    "plt.title('model loss')\n",
    "plt.grid()\n",
    "plt.ylabel('loss')\n",
    "plt.xlabel('epoch')\n",
    "plt.legend(['train', 'validation'], loc='upper left')\n",
    "plt.show()"
   ]
  },
  {
   "cell_type": "code",
   "execution_count": 16,
   "metadata": {
    "colab": {
     "base_uri": "https://localhost:8080/"
    },
    "id": "aMweNr6HWtVF",
    "outputId": "0d269e10-6d02-473a-eafb-f31f7c550154"
   },
   "outputs": [
    {
     "name": "stdout",
     "output_type": "stream",
     "text": [
      "167/167 [==============================] - 2s 6ms/step - loss: 0.6935 - accuracy: 0.4281\n",
      "Test set\n",
      "Loss: 0.6934959888458252\n",
      "Accuracy: 0.42718082666397095\n"
     ]
    }
   ],
   "source": [
    "test_sequences = tok.texts_to_sequences(x_test)\n",
    "test_sequences_matrix = sequence.pad_sequences(test_sequences, maxlen=max_len)\n",
    "accuracy3 = model.evaluate(test_sequences_matrix, y_test)\n",
    "print('Test set')\n",
    "print('Loss: ' + str(accuracy3[0]))\n",
    "print('Accuracy: ' + str(accuracy3[1]))"
   ]
  }
 ],
 "metadata": {
  "accelerator": "GPU",
  "colab": {
   "name": "SarcasmDetection.ipynb",
   "provenance": []
  },
  "kernelspec": {
   "display_name": "Python 3",
   "name": "python3"
  },
  "language_info": {
   "name": "python"
  }
 },
 "nbformat": 4,
 "nbformat_minor": 0
}
