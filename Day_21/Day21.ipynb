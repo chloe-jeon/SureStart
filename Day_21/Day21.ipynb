{
 "cells": [
  {
   "cell_type": "code",
   "execution_count": null,
   "metadata": {
    "id": "Db4FY7xpnLgO"
   },
   "outputs": [],
   "source": [
    "# https://blog.keras.io/building-autoencoders-in-keras.html\n",
    "\n",
    "# 1. Simple Autoencoder based on a fully-connected network\n",
    "# 2. Sparse Autoencoder based on a fully-connected network (similar to #1)\n",
    "# 3. Deep Autoencoder based on a fully-connected network\n",
    "# 4. Deep Autoencoder based on a convolutional network\n",
    "# 5. Application of the 4th autoencoder - Image Denoising model\n",
    "# 6. Sequence-to-sequence autoencoder\n",
    "# 7. Variational autoencoder (covered in overview)"
   ]
  },
  {
   "cell_type": "markdown",
   "metadata": {
    "id": "IdxhLzvAoJZ4"
   },
   "source": [
    "# Autoencoder #1"
   ]
  },
  {
   "cell_type": "code",
   "execution_count": null,
   "metadata": {
    "colab": {
     "base_uri": "https://localhost:8080/",
     "height": 52
    },
    "id": "dmFSw4c2oIG_",
    "outputId": "f797245c-b52d-4ed1-ee39-671997234bc5"
   },
   "outputs": [
    {
     "data": {
      "application/vnd.google.colaboratory.intrinsic+json": {
       "type": "string"
      },
      "text/plain": [
       "\"\\n#method 2\\nencoder = keras.Model(input_img, encoded)\\nencoded_input = keras.Input(shape=(encoding_dim,))\\n\\n#decoder_layer = autoencoder.layers[-1]\\ndecoder_layer = layers.Dense(784, activation = 'sigmoid')\\ndecoder = keras.Model()\\n\""
      ]
     },
     "execution_count": 2,
     "metadata": {
      "tags": []
     },
     "output_type": "execute_result"
    }
   ],
   "source": [
    "import keras\n",
    "from keras import layers\n",
    "\n",
    "encoding_dim = 32\n",
    "input_img = keras.Input(shape = (784,))\n",
    "\n",
    "# fn = init_function() <-- constructor\n",
    "# output = fn(input)\n",
    "# output = init_function()(input)\n",
    "\n",
    "encoded = layers.Dense(encoding_dim, activation = 'relu')(input_img)\n",
    "decoded = layers.Dense(784, activation = 'sigmoid')(encoded)\n",
    "\n",
    "#method 1\n",
    "autoencoder = keras.Model(input_img, decoded)\n",
    "\n",
    "'''\n",
    "#method 2\n",
    "encoder = keras.Model(input_img, encoded)\n",
    "encoded_input = keras.Input(shape=(encoding_dim,))\n",
    "\n",
    "#decoder_layer = autoencoder.layers[-1]\n",
    "decoder_layer = layers.Dense(784, activation = 'sigmoid')\n",
    "decoder = keras.Model()\n",
    "'''"
   ]
  },
  {
   "cell_type": "code",
   "execution_count": null,
   "metadata": {
    "id": "N9Kn7y0yoT7R"
   },
   "outputs": [],
   "source": [
    "autoencoder.compile(optimizer = 'adam', loss = 'binary_crossentropy') #this is a reconstruction loss, not classification"
   ]
  },
  {
   "cell_type": "code",
   "execution_count": null,
   "metadata": {
    "colab": {
     "base_uri": "https://localhost:8080/"
    },
    "id": "9a5ilX1oxRIA",
    "outputId": "6b0c5698-7aed-42a0-a2de-60a74a838691"
   },
   "outputs": [
    {
     "data": {
      "text/plain": [
       "array([[0.        , 0.        , 0.        , 0.        , 0.        ,\n",
       "        0.        , 0.        , 0.        , 0.        , 0.        ,\n",
       "        0.        , 0.        , 0.        , 0.        , 0.        ,\n",
       "        0.        , 0.        , 0.        , 0.        , 0.        ,\n",
       "        0.        , 0.        , 0.        , 0.        , 0.        ,\n",
       "        0.        , 0.        , 0.        ],\n",
       "       [0.        , 0.        , 0.        , 0.        , 0.        ,\n",
       "        0.        , 0.        , 0.        , 0.        , 0.        ,\n",
       "        0.        , 0.        , 0.        , 0.        , 0.        ,\n",
       "        0.        , 0.        , 0.        , 0.        , 0.        ,\n",
       "        0.        , 0.        , 0.        , 0.        , 0.        ,\n",
       "        0.        , 0.        , 0.        ],\n",
       "       [0.        , 0.        , 0.        , 0.        , 0.        ,\n",
       "        0.        , 0.        , 0.        , 0.        , 0.        ,\n",
       "        0.        , 0.        , 0.        , 0.        , 0.        ,\n",
       "        0.        , 0.        , 0.        , 0.        , 0.        ,\n",
       "        0.        , 0.        , 0.        , 0.        , 0.        ,\n",
       "        0.        , 0.        , 0.        ],\n",
       "       [0.        , 0.        , 0.        , 0.        , 0.        ,\n",
       "        0.        , 0.        , 0.        , 0.        , 0.        ,\n",
       "        0.        , 0.        , 0.        , 0.        , 0.        ,\n",
       "        0.        , 0.        , 0.        , 0.        , 0.        ,\n",
       "        0.        , 0.        , 0.        , 0.        , 0.        ,\n",
       "        0.        , 0.        , 0.        ],\n",
       "       [0.        , 0.        , 0.        , 0.        , 0.        ,\n",
       "        0.        , 0.        , 0.        , 0.        , 0.        ,\n",
       "        0.        , 0.        , 0.        , 0.        , 0.        ,\n",
       "        0.        , 0.        , 0.        , 0.        , 0.        ,\n",
       "        0.        , 0.        , 0.        , 0.        , 0.        ,\n",
       "        0.        , 0.        , 0.        ],\n",
       "       [0.        , 0.        , 0.        , 0.        , 0.        ,\n",
       "        0.        , 0.        , 0.        , 0.        , 0.        ,\n",
       "        0.        , 0.        , 0.01176471, 0.07058824, 0.07058824,\n",
       "        0.07058824, 0.49411765, 0.53333336, 0.6862745 , 0.10196079,\n",
       "        0.6509804 , 1.        , 0.96862745, 0.49803922, 0.        ,\n",
       "        0.        , 0.        , 0.        ],\n",
       "       [0.        , 0.        , 0.        , 0.        , 0.        ,\n",
       "        0.        , 0.        , 0.        , 0.11764706, 0.14117648,\n",
       "        0.36862746, 0.6039216 , 0.6666667 , 0.99215686, 0.99215686,\n",
       "        0.99215686, 0.99215686, 0.99215686, 0.88235295, 0.6745098 ,\n",
       "        0.99215686, 0.9490196 , 0.7647059 , 0.2509804 , 0.        ,\n",
       "        0.        , 0.        , 0.        ],\n",
       "       [0.        , 0.        , 0.        , 0.        , 0.        ,\n",
       "        0.        , 0.        , 0.19215687, 0.93333334, 0.99215686,\n",
       "        0.99215686, 0.99215686, 0.99215686, 0.99215686, 0.99215686,\n",
       "        0.99215686, 0.99215686, 0.9843137 , 0.3647059 , 0.32156864,\n",
       "        0.32156864, 0.21960784, 0.15294118, 0.        , 0.        ,\n",
       "        0.        , 0.        , 0.        ],\n",
       "       [0.        , 0.        , 0.        , 0.        , 0.        ,\n",
       "        0.        , 0.        , 0.07058824, 0.85882354, 0.99215686,\n",
       "        0.99215686, 0.99215686, 0.99215686, 0.99215686, 0.7764706 ,\n",
       "        0.7137255 , 0.96862745, 0.94509804, 0.        , 0.        ,\n",
       "        0.        , 0.        , 0.        , 0.        , 0.        ,\n",
       "        0.        , 0.        , 0.        ],\n",
       "       [0.        , 0.        , 0.        , 0.        , 0.        ,\n",
       "        0.        , 0.        , 0.        , 0.3137255 , 0.6117647 ,\n",
       "        0.41960785, 0.99215686, 0.99215686, 0.8039216 , 0.04313726,\n",
       "        0.        , 0.16862746, 0.6039216 , 0.        , 0.        ,\n",
       "        0.        , 0.        , 0.        , 0.        , 0.        ,\n",
       "        0.        , 0.        , 0.        ],\n",
       "       [0.        , 0.        , 0.        , 0.        , 0.        ,\n",
       "        0.        , 0.        , 0.        , 0.        , 0.05490196,\n",
       "        0.00392157, 0.6039216 , 0.99215686, 0.3529412 , 0.        ,\n",
       "        0.        , 0.        , 0.        , 0.        , 0.        ,\n",
       "        0.        , 0.        , 0.        , 0.        , 0.        ,\n",
       "        0.        , 0.        , 0.        ],\n",
       "       [0.        , 0.        , 0.        , 0.        , 0.        ,\n",
       "        0.        , 0.        , 0.        , 0.        , 0.        ,\n",
       "        0.        , 0.54509807, 0.99215686, 0.74509805, 0.00784314,\n",
       "        0.        , 0.        , 0.        , 0.        , 0.        ,\n",
       "        0.        , 0.        , 0.        , 0.        , 0.        ,\n",
       "        0.        , 0.        , 0.        ],\n",
       "       [0.        , 0.        , 0.        , 0.        , 0.        ,\n",
       "        0.        , 0.        , 0.        , 0.        , 0.        ,\n",
       "        0.        , 0.04313726, 0.74509805, 0.99215686, 0.27450982,\n",
       "        0.        , 0.        , 0.        , 0.        , 0.        ,\n",
       "        0.        , 0.        , 0.        , 0.        , 0.        ,\n",
       "        0.        , 0.        , 0.        ],\n",
       "       [0.        , 0.        , 0.        , 0.        , 0.        ,\n",
       "        0.        , 0.        , 0.        , 0.        , 0.        ,\n",
       "        0.        , 0.        , 0.13725491, 0.94509804, 0.88235295,\n",
       "        0.627451  , 0.42352942, 0.00392157, 0.        , 0.        ,\n",
       "        0.        , 0.        , 0.        , 0.        , 0.        ,\n",
       "        0.        , 0.        , 0.        ],\n",
       "       [0.        , 0.        , 0.        , 0.        , 0.        ,\n",
       "        0.        , 0.        , 0.        , 0.        , 0.        ,\n",
       "        0.        , 0.        , 0.        , 0.31764707, 0.9411765 ,\n",
       "        0.99215686, 0.99215686, 0.46666667, 0.09803922, 0.        ,\n",
       "        0.        , 0.        , 0.        , 0.        , 0.        ,\n",
       "        0.        , 0.        , 0.        ],\n",
       "       [0.        , 0.        , 0.        , 0.        , 0.        ,\n",
       "        0.        , 0.        , 0.        , 0.        , 0.        ,\n",
       "        0.        , 0.        , 0.        , 0.        , 0.1764706 ,\n",
       "        0.7294118 , 0.99215686, 0.99215686, 0.5882353 , 0.10588235,\n",
       "        0.        , 0.        , 0.        , 0.        , 0.        ,\n",
       "        0.        , 0.        , 0.        ],\n",
       "       [0.        , 0.        , 0.        , 0.        , 0.        ,\n",
       "        0.        , 0.        , 0.        , 0.        , 0.        ,\n",
       "        0.        , 0.        , 0.        , 0.        , 0.        ,\n",
       "        0.0627451 , 0.3647059 , 0.9882353 , 0.99215686, 0.73333335,\n",
       "        0.        , 0.        , 0.        , 0.        , 0.        ,\n",
       "        0.        , 0.        , 0.        ],\n",
       "       [0.        , 0.        , 0.        , 0.        , 0.        ,\n",
       "        0.        , 0.        , 0.        , 0.        , 0.        ,\n",
       "        0.        , 0.        , 0.        , 0.        , 0.        ,\n",
       "        0.        , 0.        , 0.9764706 , 0.99215686, 0.9764706 ,\n",
       "        0.2509804 , 0.        , 0.        , 0.        , 0.        ,\n",
       "        0.        , 0.        , 0.        ],\n",
       "       [0.        , 0.        , 0.        , 0.        , 0.        ,\n",
       "        0.        , 0.        , 0.        , 0.        , 0.        ,\n",
       "        0.        , 0.        , 0.        , 0.        , 0.18039216,\n",
       "        0.50980395, 0.7176471 , 0.99215686, 0.99215686, 0.8117647 ,\n",
       "        0.00784314, 0.        , 0.        , 0.        , 0.        ,\n",
       "        0.        , 0.        , 0.        ],\n",
       "       [0.        , 0.        , 0.        , 0.        , 0.        ,\n",
       "        0.        , 0.        , 0.        , 0.        , 0.        ,\n",
       "        0.        , 0.        , 0.15294118, 0.5803922 , 0.8980392 ,\n",
       "        0.99215686, 0.99215686, 0.99215686, 0.98039216, 0.7137255 ,\n",
       "        0.        , 0.        , 0.        , 0.        , 0.        ,\n",
       "        0.        , 0.        , 0.        ],\n",
       "       [0.        , 0.        , 0.        , 0.        , 0.        ,\n",
       "        0.        , 0.        , 0.        , 0.        , 0.        ,\n",
       "        0.09411765, 0.44705883, 0.8666667 , 0.99215686, 0.99215686,\n",
       "        0.99215686, 0.99215686, 0.7882353 , 0.30588236, 0.        ,\n",
       "        0.        , 0.        , 0.        , 0.        , 0.        ,\n",
       "        0.        , 0.        , 0.        ],\n",
       "       [0.        , 0.        , 0.        , 0.        , 0.        ,\n",
       "        0.        , 0.        , 0.        , 0.09019608, 0.25882354,\n",
       "        0.8352941 , 0.99215686, 0.99215686, 0.99215686, 0.99215686,\n",
       "        0.7764706 , 0.31764707, 0.00784314, 0.        , 0.        ,\n",
       "        0.        , 0.        , 0.        , 0.        , 0.        ,\n",
       "        0.        , 0.        , 0.        ],\n",
       "       [0.        , 0.        , 0.        , 0.        , 0.        ,\n",
       "        0.        , 0.07058824, 0.67058825, 0.85882354, 0.99215686,\n",
       "        0.99215686, 0.99215686, 0.99215686, 0.7647059 , 0.3137255 ,\n",
       "        0.03529412, 0.        , 0.        , 0.        , 0.        ,\n",
       "        0.        , 0.        , 0.        , 0.        , 0.        ,\n",
       "        0.        , 0.        , 0.        ],\n",
       "       [0.        , 0.        , 0.        , 0.        , 0.21568628,\n",
       "        0.6745098 , 0.8862745 , 0.99215686, 0.99215686, 0.99215686,\n",
       "        0.99215686, 0.95686275, 0.52156866, 0.04313726, 0.        ,\n",
       "        0.        , 0.        , 0.        , 0.        , 0.        ,\n",
       "        0.        , 0.        , 0.        , 0.        , 0.        ,\n",
       "        0.        , 0.        , 0.        ],\n",
       "       [0.        , 0.        , 0.        , 0.        , 0.53333336,\n",
       "        0.99215686, 0.99215686, 0.99215686, 0.83137256, 0.5294118 ,\n",
       "        0.5176471 , 0.0627451 , 0.        , 0.        , 0.        ,\n",
       "        0.        , 0.        , 0.        , 0.        , 0.        ,\n",
       "        0.        , 0.        , 0.        , 0.        , 0.        ,\n",
       "        0.        , 0.        , 0.        ],\n",
       "       [0.        , 0.        , 0.        , 0.        , 0.        ,\n",
       "        0.        , 0.        , 0.        , 0.        , 0.        ,\n",
       "        0.        , 0.        , 0.        , 0.        , 0.        ,\n",
       "        0.        , 0.        , 0.        , 0.        , 0.        ,\n",
       "        0.        , 0.        , 0.        , 0.        , 0.        ,\n",
       "        0.        , 0.        , 0.        ],\n",
       "       [0.        , 0.        , 0.        , 0.        , 0.        ,\n",
       "        0.        , 0.        , 0.        , 0.        , 0.        ,\n",
       "        0.        , 0.        , 0.        , 0.        , 0.        ,\n",
       "        0.        , 0.        , 0.        , 0.        , 0.        ,\n",
       "        0.        , 0.        , 0.        , 0.        , 0.        ,\n",
       "        0.        , 0.        , 0.        ],\n",
       "       [0.        , 0.        , 0.        , 0.        , 0.        ,\n",
       "        0.        , 0.        , 0.        , 0.        , 0.        ,\n",
       "        0.        , 0.        , 0.        , 0.        , 0.        ,\n",
       "        0.        , 0.        , 0.        , 0.        , 0.        ,\n",
       "        0.        , 0.        , 0.        , 0.        , 0.        ,\n",
       "        0.        , 0.        , 0.        ]], dtype=float32)"
      ]
     },
     "execution_count": 4,
     "metadata": {
      "tags": []
     },
     "output_type": "execute_result"
    }
   ],
   "source": [
    "from keras.datasets import mnist\n",
    "import numpy as np\n",
    "\n",
    "(x_train, _), (x_test, _) = mnist.load_data()\n",
    "x_train = x_train.astype('float32')/255.0\n",
    "x_train[0]"
   ]
  },
  {
   "cell_type": "code",
   "execution_count": null,
   "metadata": {
    "colab": {
     "base_uri": "https://localhost:8080/"
    },
    "id": "6tf_-6hcyu7c",
    "outputId": "249ac598-6abd-4be3-cd16-1f4ed6aa41ab"
   },
   "outputs": [
    {
     "name": "stdout",
     "output_type": "stream",
     "text": [
      "(60000, 784) (10000, 784)\n"
     ]
    }
   ],
   "source": [
    "x_test = x_test.astype('float32')/255.0\n",
    "\n",
    "x_train = x_train.reshape((len(x_train), np.prod(x_train.shape[1:])))\n",
    "x_test = x_test.reshape((len(x_test), np.prod(x_test.shape[1:])))\n",
    "print(x_train.shape, x_test.shape)"
   ]
  },
  {
   "cell_type": "code",
   "execution_count": null,
   "metadata": {
    "colab": {
     "base_uri": "https://localhost:8080/"
    },
    "id": "i1nmR8h2zyaQ",
    "outputId": "f7873a1e-16ca-4649-a748-6fd63146e83f"
   },
   "outputs": [
    {
     "name": "stdout",
     "output_type": "stream",
     "text": [
      "Epoch 1/50\n",
      "235/235 [==============================] - 13s 5ms/step - loss: 0.3836 - val_loss: 0.1899\n",
      "Epoch 2/50\n",
      "235/235 [==============================] - 1s 3ms/step - loss: 0.1798 - val_loss: 0.1518\n",
      "Epoch 3/50\n",
      "235/235 [==============================] - 1s 3ms/step - loss: 0.1479 - val_loss: 0.1320\n",
      "Epoch 4/50\n",
      "235/235 [==============================] - 1s 4ms/step - loss: 0.1301 - val_loss: 0.1197\n",
      "Epoch 5/50\n",
      "235/235 [==============================] - 1s 4ms/step - loss: 0.1190 - val_loss: 0.1114\n",
      "Epoch 6/50\n",
      "235/235 [==============================] - 1s 4ms/step - loss: 0.1111 - val_loss: 0.1055\n",
      "Epoch 7/50\n",
      "235/235 [==============================] - 1s 4ms/step - loss: 0.1056 - val_loss: 0.1013\n",
      "Epoch 8/50\n",
      "235/235 [==============================] - 1s 3ms/step - loss: 0.1018 - val_loss: 0.0984\n",
      "Epoch 9/50\n",
      "235/235 [==============================] - 1s 3ms/step - loss: 0.0991 - val_loss: 0.0964\n",
      "Epoch 10/50\n",
      "235/235 [==============================] - 1s 4ms/step - loss: 0.0971 - val_loss: 0.0951\n",
      "Epoch 11/50\n",
      "235/235 [==============================] - 1s 4ms/step - loss: 0.0962 - val_loss: 0.0943\n",
      "Epoch 12/50\n",
      "235/235 [==============================] - 1s 4ms/step - loss: 0.0952 - val_loss: 0.0937\n",
      "Epoch 13/50\n",
      "235/235 [==============================] - 1s 4ms/step - loss: 0.0947 - val_loss: 0.0932\n",
      "Epoch 14/50\n",
      "235/235 [==============================] - 1s 3ms/step - loss: 0.0942 - val_loss: 0.0929\n",
      "Epoch 15/50\n",
      "235/235 [==============================] - 1s 3ms/step - loss: 0.0941 - val_loss: 0.0928\n",
      "Epoch 16/50\n",
      "235/235 [==============================] - 1s 4ms/step - loss: 0.0938 - val_loss: 0.0925\n",
      "Epoch 17/50\n",
      "235/235 [==============================] - 1s 4ms/step - loss: 0.0935 - val_loss: 0.0924\n",
      "Epoch 18/50\n",
      "235/235 [==============================] - 1s 4ms/step - loss: 0.0935 - val_loss: 0.0923\n",
      "Epoch 19/50\n",
      "235/235 [==============================] - 1s 4ms/step - loss: 0.0935 - val_loss: 0.0922\n",
      "Epoch 20/50\n",
      "235/235 [==============================] - 1s 4ms/step - loss: 0.0933 - val_loss: 0.0920\n",
      "Epoch 21/50\n",
      "235/235 [==============================] - 1s 3ms/step - loss: 0.0934 - val_loss: 0.0920\n",
      "Epoch 22/50\n",
      "235/235 [==============================] - 1s 4ms/step - loss: 0.0934 - val_loss: 0.0920\n",
      "Epoch 23/50\n",
      "235/235 [==============================] - 1s 3ms/step - loss: 0.0931 - val_loss: 0.0920\n",
      "Epoch 24/50\n",
      "235/235 [==============================] - 1s 4ms/step - loss: 0.0931 - val_loss: 0.0919\n",
      "Epoch 25/50\n",
      "235/235 [==============================] - 1s 3ms/step - loss: 0.0929 - val_loss: 0.0919\n",
      "Epoch 26/50\n",
      "235/235 [==============================] - 1s 3ms/step - loss: 0.0929 - val_loss: 0.0918\n",
      "Epoch 27/50\n",
      "235/235 [==============================] - 1s 3ms/step - loss: 0.0927 - val_loss: 0.0918\n",
      "Epoch 28/50\n",
      "235/235 [==============================] - 1s 3ms/step - loss: 0.0929 - val_loss: 0.0918\n",
      "Epoch 29/50\n",
      "235/235 [==============================] - 1s 4ms/step - loss: 0.0928 - val_loss: 0.0917\n",
      "Epoch 30/50\n",
      "235/235 [==============================] - 1s 3ms/step - loss: 0.0927 - val_loss: 0.0917\n",
      "Epoch 31/50\n",
      "235/235 [==============================] - 1s 3ms/step - loss: 0.0928 - val_loss: 0.0918\n",
      "Epoch 32/50\n",
      "235/235 [==============================] - 1s 3ms/step - loss: 0.0928 - val_loss: 0.0917\n",
      "Epoch 33/50\n",
      "235/235 [==============================] - 1s 3ms/step - loss: 0.0928 - val_loss: 0.0917\n",
      "Epoch 34/50\n",
      "235/235 [==============================] - 1s 3ms/step - loss: 0.0927 - val_loss: 0.0916\n",
      "Epoch 35/50\n",
      "235/235 [==============================] - 1s 3ms/step - loss: 0.0927 - val_loss: 0.0916\n",
      "Epoch 36/50\n",
      "235/235 [==============================] - 1s 4ms/step - loss: 0.0927 - val_loss: 0.0917\n",
      "Epoch 37/50\n",
      "235/235 [==============================] - 1s 4ms/step - loss: 0.0927 - val_loss: 0.0916\n",
      "Epoch 38/50\n",
      "235/235 [==============================] - 1s 4ms/step - loss: 0.0927 - val_loss: 0.0915\n",
      "Epoch 39/50\n",
      "235/235 [==============================] - 1s 3ms/step - loss: 0.0926 - val_loss: 0.0916\n",
      "Epoch 40/50\n",
      "235/235 [==============================] - 1s 3ms/step - loss: 0.0926 - val_loss: 0.0916\n",
      "Epoch 41/50\n",
      "235/235 [==============================] - 1s 4ms/step - loss: 0.0927 - val_loss: 0.0915\n",
      "Epoch 42/50\n",
      "235/235 [==============================] - 1s 4ms/step - loss: 0.0924 - val_loss: 0.0915\n",
      "Epoch 43/50\n",
      "235/235 [==============================] - 1s 3ms/step - loss: 0.0925 - val_loss: 0.0915\n",
      "Epoch 44/50\n",
      "235/235 [==============================] - 1s 3ms/step - loss: 0.0927 - val_loss: 0.0915\n",
      "Epoch 45/50\n",
      "235/235 [==============================] - 1s 3ms/step - loss: 0.0925 - val_loss: 0.0915\n",
      "Epoch 46/50\n",
      "235/235 [==============================] - 1s 4ms/step - loss: 0.0926 - val_loss: 0.0915\n",
      "Epoch 47/50\n",
      "235/235 [==============================] - 1s 3ms/step - loss: 0.0926 - val_loss: 0.0915\n",
      "Epoch 48/50\n",
      "235/235 [==============================] - 1s 3ms/step - loss: 0.0925 - val_loss: 0.0915\n",
      "Epoch 49/50\n",
      "235/235 [==============================] - 1s 3ms/step - loss: 0.0927 - val_loss: 0.0915\n",
      "Epoch 50/50\n",
      "235/235 [==============================] - 1s 3ms/step - loss: 0.0927 - val_loss: 0.0915\n"
     ]
    },
    {
     "data": {
      "text/plain": [
       "<keras.callbacks.History at 0x7ff4603e4250>"
      ]
     },
     "execution_count": 6,
     "metadata": {
      "tags": []
     },
     "output_type": "execute_result"
    }
   ],
   "source": [
    "autoencoder.fit(x_train, x_train, epochs = 50, batch_size = 256, shuffle = True, validation_data = (x_test, x_test))\n",
    "#also try for batch size 32, 64, 128\n",
    "#also try for epoch nums 10, 50, 100"
   ]
  },
  {
   "cell_type": "code",
   "execution_count": null,
   "metadata": {
    "id": "rQAJSEE9Zsqp"
   },
   "outputs": [],
   "source": [
    "#visualization of actual and reconstructed images"
   ]
  },
  {
   "cell_type": "markdown",
   "metadata": {
    "id": "6EBCuF4moUTh"
   },
   "source": [
    "# Autoencoder #5"
   ]
  },
  {
   "cell_type": "code",
   "execution_count": null,
   "metadata": {
    "colab": {
     "base_uri": "https://localhost:8080/"
    },
    "id": "1UBeFk3JoUqN",
    "outputId": "0e7ac13b-025e-4577-8220-940e966227b5"
   },
   "outputs": [
    {
     "name": "stdout",
     "output_type": "stream",
     "text": [
      "(60000, 28, 28, 1) (60000, 28, 28, 1)\n"
     ]
    }
   ],
   "source": [
    "from keras.datasets import mnist\n",
    "import numpy as np\n",
    "\n",
    "(x_train, _), (x_test, _) = mnist.load_data()\n",
    "x_train = x_train.astype('float32')/255.0\n",
    "x_test = x_test.astype('float32')/255.0\n",
    "\n",
    "x_train = x_train.reshape((len(x_train), x_train.shape[1], x_train.shape[2], 1))\n",
    "x_test = x_train.reshape((len(x_train), x_train.shape[1], x_train.shape[2], 1))\n",
    "print(x_train.shape, x_test.shape)"
   ]
  },
  {
   "cell_type": "code",
   "execution_count": null,
   "metadata": {
    "id": "yT3Rl43OqzF7"
   },
   "outputs": [],
   "source": [
    "#artificially add noise (to test the denoising)\n",
    "noise_factor = 0.5\n",
    "x_train_noisy = x_train + noise_factor*np.random.normal(loc = 0.0, scale = 1.0, size = x_train.shape) #loc = mean, scale = standard deviation\n",
    "x_test_noisy = x_test + noise_factor*np.random.normal(loc = 0.0, scale = 1.0, size = x_test.shape)\n",
    "\n",
    "x_train_noisy = np.clip(x_train_noisy, 0.0, 1.0) #clip to keep between 0 and 1\n",
    "x_test_noisy = np.clip(x_test_noisy, 0.0, 1.0)"
   ]
  },
  {
   "cell_type": "code",
   "execution_count": null,
   "metadata": {
    "colab": {
     "base_uri": "https://localhost:8080/",
     "height": 129
    },
    "id": "H5e446u5IMqh",
    "outputId": "79134248-7cee-4385-e0dc-d1859df3c7e4"
   },
   "outputs": [
    {
     "data": {
      "image/png": "[encoded data removed]",
      "text/plain": [
       "<Figure size 1440x144 with 10 Axes>"
      ]
     },
     "metadata": {
      "tags": []
     },
     "output_type": "display_data"
    }
   ],
   "source": [
    "import matplotlib.pyplot as plt\n",
    "\n",
    "n = 10\n",
    "plt.figure(figsize = (20, 2))\n",
    "for i in range(1, n+1):\n",
    "  ax = plt.subplot(1, n, i)\n",
    "  plt.imshow(x_test[i].reshape(28, 28))\n",
    "  plt.gray()\n",
    "  ax.get_xaxis().set_visible(False)\n",
    "  ax.get_yaxis().set_visible(False)\n",
    "plt.show()"
   ]
  },
  {
   "cell_type": "code",
   "execution_count": null,
   "metadata": {
    "colab": {
     "base_uri": "https://localhost:8080/",
     "height": 129
    },
    "id": "LZmdThSTI3nX",
    "outputId": "3fd5e30b-0c1f-4f16-ff7d-bc46714943cc"
   },
   "outputs": [
    {
     "data": {
      "image/png": "[encoded data removed]",
      "text/plain": [
       "<Figure size 1440x144 with 10 Axes>"
      ]
     },
     "metadata": {
      "tags": []
     },
     "output_type": "display_data"
    }
   ],
   "source": [
    "n = 10\n",
    "plt.figure(figsize = (20, 2))\n",
    "for i in range(1, n+1):\n",
    "  ax = plt.subplot(1, n, i)\n",
    "  plt.imshow(x_test_noisy[i].reshape(28, 28))\n",
    "  plt.gray()\n",
    "  ax.get_xaxis().set_visible(False)\n",
    "  ax.get_yaxis().set_visible(False)\n",
    "plt.show()"
   ]
  },
  {
   "cell_type": "code",
   "execution_count": null,
   "metadata": {
    "id": "dvCnjg-bKRMm"
   },
   "outputs": [],
   "source": [
    "input_img = keras.Input(shape = (28, 28, 1))\n",
    "\n",
    "x = layers.Conv2D(32, (3, 3), activation = 'relu', padding = 'same')(input_img)\n",
    "x = layers.MaxPooling2D((2, 2), padding = 'same')(x)\n",
    "x = layers.Conv2D(32, (3, 3), activation = 'relu', padding = 'same')(x)\n",
    "encoded = layers.MaxPooling2D((2, 2), padding = 'same')(x)\n",
    "\n",
    "x = layers.Conv2D(32, (3, 3), activation = 'relu', padding = 'same')(encoded)\n",
    "x = layers.UpSampling2D((2, 2))(x)\n",
    "x = layers.Conv2D(32, (3, 3), activation = 'relu', padding = 'same')(x)\n",
    "x = layers.UpSampling2D((2, 2))(x)\n",
    "decoded = layers.Conv2D(1, (3, 3), activation = 'sigmoid', padding = 'same')(x)\n",
    "\n",
    "autoencoder = keras.Model(input_img, decoded)\n",
    "autoencoder.compile(optimizer = 'adam', loss = 'binary_crossentropy')\n"
   ]
  },
  {
   "cell_type": "code",
   "execution_count": null,
   "metadata": {
    "colab": {
     "background_save": true,
     "base_uri": "https://localhost:8080/"
    },
    "id": "WP9xLYEin49W",
    "outputId": "0733fa5d-5de4-46dd-d0d4-6cf182150f79"
   },
   "outputs": [
    {
     "name": "stdout",
     "output_type": "stream",
     "text": [
      "Epoch 1/100\n",
      "235/235 [==============================] - 7s 18ms/step - loss: 0.3168 - val_loss: 0.1271\n",
      "Epoch 2/100\n",
      "235/235 [==============================] - 4s 15ms/step - loss: 0.1235 - val_loss: 0.1156\n",
      "Epoch 3/100\n",
      "235/235 [==============================] - 4s 15ms/step - loss: 0.1142 - val_loss: 0.1116\n",
      "Epoch 4/100\n",
      "235/235 [==============================] - 4s 15ms/step - loss: 0.1099 - val_loss: 0.1078\n",
      "Epoch 5/100\n",
      "235/235 [==============================] - 4s 15ms/step - loss: 0.1074 - val_loss: 0.1065\n",
      "Epoch 6/100\n",
      "235/235 [==============================] - 4s 15ms/step - loss: 0.1055 - val_loss: 0.1045\n",
      "Epoch 7/100\n",
      "235/235 [==============================] - 4s 15ms/step - loss: 0.1041 - val_loss: 0.1035\n",
      "Epoch 8/100\n",
      "235/235 [==============================] - 4s 15ms/step - loss: 0.1032 - val_loss: 0.1025\n",
      "Epoch 9/100\n",
      "235/235 [==============================] - 4s 15ms/step - loss: 0.1020 - val_loss: 0.1016\n",
      "Epoch 10/100\n",
      "235/235 [==============================] - 4s 15ms/step - loss: 0.1014 - val_loss: 0.1011\n",
      "Epoch 11/100\n",
      "235/235 [==============================] - 4s 16ms/step - loss: 0.1006 - val_loss: 0.1003\n",
      "Epoch 12/100\n",
      "235/235 [==============================] - 4s 15ms/step - loss: 0.1001 - val_loss: 0.0997\n",
      "Epoch 13/100\n",
      "235/235 [==============================] - 4s 15ms/step - loss: 0.0995 - val_loss: 0.0993\n",
      "Epoch 14/100\n",
      "235/235 [==============================] - 4s 16ms/step - loss: 0.0992 - val_loss: 0.0992\n",
      "Epoch 15/100\n",
      "235/235 [==============================] - 4s 16ms/step - loss: 0.0987 - val_loss: 0.0987\n",
      "Epoch 16/100\n",
      "235/235 [==============================] - 4s 15ms/step - loss: 0.0983 - val_loss: 0.0983\n",
      "Epoch 17/100\n",
      "235/235 [==============================] - 4s 15ms/step - loss: 0.0980 - val_loss: 0.0982\n",
      "Epoch 18/100\n",
      "235/235 [==============================] - 4s 15ms/step - loss: 0.0979 - val_loss: 0.0978\n",
      "Epoch 19/100\n",
      "235/235 [==============================] - 4s 15ms/step - loss: 0.0975 - val_loss: 0.0978\n",
      "Epoch 20/100\n",
      "235/235 [==============================] - 4s 15ms/step - loss: 0.0972 - val_loss: 0.0974\n",
      "Epoch 21/100\n",
      "235/235 [==============================] - 4s 15ms/step - loss: 0.0971 - val_loss: 0.0972\n",
      "Epoch 22/100\n",
      "235/235 [==============================] - 4s 15ms/step - loss: 0.0968 - val_loss: 0.0972\n",
      "Epoch 23/100\n",
      "235/235 [==============================] - 4s 15ms/step - loss: 0.0969 - val_loss: 0.0972\n",
      "Epoch 24/100\n",
      "235/235 [==============================] - 4s 15ms/step - loss: 0.0966 - val_loss: 0.0968\n",
      "Epoch 25/100\n",
      "235/235 [==============================] - 4s 15ms/step - loss: 0.0964 - val_loss: 0.0965\n",
      "Epoch 26/100\n",
      "235/235 [==============================] - 4s 15ms/step - loss: 0.0960 - val_loss: 0.0967\n",
      "Epoch 27/100\n",
      "235/235 [==============================] - 4s 15ms/step - loss: 0.0962 - val_loss: 0.0963\n",
      "Epoch 28/100\n",
      "235/235 [==============================] - 4s 15ms/step - loss: 0.0960 - val_loss: 0.0961\n",
      "Epoch 29/100\n",
      "235/235 [==============================] - 4s 15ms/step - loss: 0.0959 - val_loss: 0.0961\n",
      "Epoch 30/100\n",
      "235/235 [==============================] - 4s 15ms/step - loss: 0.0958 - val_loss: 0.0962\n",
      "Epoch 31/100\n",
      "235/235 [==============================] - 4s 15ms/step - loss: 0.0955 - val_loss: 0.0958\n",
      "Epoch 32/100\n",
      "235/235 [==============================] - 4s 15ms/step - loss: 0.0955 - val_loss: 0.0959\n",
      "Epoch 33/100\n",
      "235/235 [==============================] - 4s 15ms/step - loss: 0.0955 - val_loss: 0.0962\n",
      "Epoch 34/100\n",
      "235/235 [==============================] - 4s 15ms/step - loss: 0.0952 - val_loss: 0.0955\n",
      "Epoch 35/100\n",
      "235/235 [==============================] - 4s 15ms/step - loss: 0.0952 - val_loss: 0.0956\n",
      "Epoch 36/100\n",
      "235/235 [==============================] - 4s 15ms/step - loss: 0.0951 - val_loss: 0.0956\n",
      "Epoch 37/100\n",
      "235/235 [==============================] - 4s 15ms/step - loss: 0.0951 - val_loss: 0.0953\n",
      "Epoch 38/100\n",
      "235/235 [==============================] - 4s 15ms/step - loss: 0.0948 - val_loss: 0.0953\n",
      "Epoch 39/100\n",
      "235/235 [==============================] - 4s 15ms/step - loss: 0.0948 - val_loss: 0.0953\n",
      "Epoch 40/100\n",
      "235/235 [==============================] - 4s 15ms/step - loss: 0.0948 - val_loss: 0.0954\n",
      "Epoch 41/100\n",
      "235/235 [==============================] - 4s 15ms/step - loss: 0.0946 - val_loss: 0.0951\n",
      "Epoch 42/100\n",
      "235/235 [==============================] - 4s 15ms/step - loss: 0.0946 - val_loss: 0.0950\n",
      "Epoch 43/100\n",
      "235/235 [==============================] - 4s 15ms/step - loss: 0.0946 - val_loss: 0.0950\n",
      "Epoch 44/100\n",
      "235/235 [==============================] - 4s 15ms/step - loss: 0.0945 - val_loss: 0.0948\n",
      "Epoch 45/100\n",
      "235/235 [==============================] - 4s 15ms/step - loss: 0.0944 - val_loss: 0.0950\n",
      "Epoch 46/100\n",
      "235/235 [==============================] - 4s 15ms/step - loss: 0.0944 - val_loss: 0.0954\n",
      "Epoch 47/100\n",
      "235/235 [==============================] - 4s 15ms/step - loss: 0.0943 - val_loss: 0.0947\n",
      "Epoch 48/100\n",
      "235/235 [==============================] - 4s 15ms/step - loss: 0.0942 - val_loss: 0.0947\n",
      "Epoch 49/100\n",
      "235/235 [==============================] - 4s 15ms/step - loss: 0.0944 - val_loss: 0.0948\n",
      "Epoch 50/100\n",
      "235/235 [==============================] - 4s 15ms/step - loss: 0.0942 - val_loss: 0.0947\n",
      "Epoch 51/100\n",
      "235/235 [==============================] - 4s 15ms/step - loss: 0.0940 - val_loss: 0.0946\n",
      "Epoch 52/100\n",
      "235/235 [==============================] - 4s 15ms/step - loss: 0.0940 - val_loss: 0.0946\n",
      "Epoch 53/100\n",
      "235/235 [==============================] - 4s 15ms/step - loss: 0.0939 - val_loss: 0.0946\n",
      "Epoch 54/100\n",
      "235/235 [==============================] - 4s 15ms/step - loss: 0.0941 - val_loss: 0.0945\n",
      "Epoch 55/100\n",
      "235/235 [==============================] - 4s 15ms/step - loss: 0.0939 - val_loss: 0.0944\n",
      "Epoch 56/100\n",
      "235/235 [==============================] - 4s 15ms/step - loss: 0.0939 - val_loss: 0.0950\n",
      "Epoch 57/100\n",
      "235/235 [==============================] - 4s 15ms/step - loss: 0.0938 - val_loss: 0.0944\n",
      "Epoch 58/100\n",
      "235/235 [==============================] - 4s 15ms/step - loss: 0.0939 - val_loss: 0.0943\n",
      "Epoch 59/100\n",
      "235/235 [==============================] - 4s 15ms/step - loss: 0.0938 - val_loss: 0.0943\n",
      "Epoch 60/100\n",
      "235/235 [==============================] - 4s 15ms/step - loss: 0.0937 - val_loss: 0.0943\n",
      "Epoch 61/100\n",
      "235/235 [==============================] - 4s 15ms/step - loss: 0.0938 - val_loss: 0.0942\n",
      "Epoch 62/100\n",
      "235/235 [==============================] - 4s 15ms/step - loss: 0.0937 - val_loss: 0.0945\n",
      "Epoch 63/100\n",
      "235/235 [==============================] - 4s 15ms/step - loss: 0.0936 - val_loss: 0.0944\n",
      "Epoch 64/100\n",
      "235/235 [==============================] - 4s 15ms/step - loss: 0.0939 - val_loss: 0.0942\n",
      "Epoch 65/100\n",
      "235/235 [==============================] - 4s 15ms/step - loss: 0.0936 - val_loss: 0.0943\n",
      "Epoch 66/100\n",
      "235/235 [==============================] - 4s 15ms/step - loss: 0.0937 - val_loss: 0.0942\n",
      "Epoch 67/100\n",
      "235/235 [==============================] - 4s 15ms/step - loss: 0.0935 - val_loss: 0.0942\n",
      "Epoch 68/100\n",
      "235/235 [==============================] - 4s 15ms/step - loss: 0.0936 - val_loss: 0.0941\n",
      "Epoch 69/100\n",
      "235/235 [==============================] - 4s 15ms/step - loss: 0.0934 - val_loss: 0.0944\n",
      "Epoch 70/100\n",
      "235/235 [==============================] - 4s 15ms/step - loss: 0.0937 - val_loss: 0.0944\n",
      "Epoch 71/100\n",
      "235/235 [==============================] - 4s 15ms/step - loss: 0.0935 - val_loss: 0.0948\n",
      "Epoch 72/100\n",
      "235/235 [==============================] - 4s 15ms/step - loss: 0.0934 - val_loss: 0.0942\n",
      "Epoch 73/100\n",
      "235/235 [==============================] - 4s 15ms/step - loss: 0.0934 - val_loss: 0.0940\n",
      "Epoch 74/100\n",
      "235/235 [==============================] - 4s 15ms/step - loss: 0.0933 - val_loss: 0.0942\n",
      "Epoch 75/100\n",
      "235/235 [==============================] - 4s 15ms/step - loss: 0.0934 - val_loss: 0.0940\n",
      "Epoch 76/100\n",
      "235/235 [==============================] - 4s 15ms/step - loss: 0.0934 - val_loss: 0.0941\n",
      "Epoch 77/100\n",
      "235/235 [==============================] - 4s 16ms/step - loss: 0.0935 - val_loss: 0.0940\n",
      "Epoch 78/100\n",
      "235/235 [==============================] - 4s 15ms/step - loss: 0.0933 - val_loss: 0.0949\n",
      "Epoch 79/100\n",
      "235/235 [==============================] - 4s 15ms/step - loss: 0.0935 - val_loss: 0.0941\n",
      "Epoch 80/100\n",
      "235/235 [==============================] - 4s 15ms/step - loss: 0.0934 - val_loss: 0.0940\n",
      "Epoch 81/100\n",
      "235/235 [==============================] - 4s 15ms/step - loss: 0.0933 - val_loss: 0.0944\n",
      "Epoch 82/100\n",
      "235/235 [==============================] - 4s 15ms/step - loss: 0.0933 - val_loss: 0.0942\n",
      "Epoch 83/100\n",
      "235/235 [==============================] - 4s 15ms/step - loss: 0.0933 - val_loss: 0.0942\n",
      "Epoch 84/100\n",
      "235/235 [==============================] - 4s 15ms/step - loss: 0.0934 - val_loss: 0.0941\n",
      "Epoch 85/100\n",
      "235/235 [==============================] - 4s 15ms/step - loss: 0.0932 - val_loss: 0.0942\n",
      "Epoch 86/100\n",
      "235/235 [==============================] - 4s 15ms/step - loss: 0.0934 - val_loss: 0.0938\n",
      "Epoch 87/100\n",
      "235/235 [==============================] - 4s 15ms/step - loss: 0.0933 - val_loss: 0.0941\n",
      "Epoch 88/100\n",
      "235/235 [==============================] - 4s 15ms/step - loss: 0.0931 - val_loss: 0.0939\n",
      "Epoch 89/100\n",
      "235/235 [==============================] - 4s 15ms/step - loss: 0.0934 - val_loss: 0.0939\n",
      "Epoch 90/100\n",
      "235/235 [==============================] - 4s 15ms/step - loss: 0.0933 - val_loss: 0.0938\n",
      "Epoch 91/100\n",
      "235/235 [==============================] - 4s 15ms/step - loss: 0.0932 - val_loss: 0.0938\n",
      "Epoch 92/100\n",
      "235/235 [==============================] - 4s 15ms/step - loss: 0.0931 - val_loss: 0.0939\n",
      "Epoch 93/100\n",
      "235/235 [==============================] - 4s 15ms/step - loss: 0.0932 - val_loss: 0.0938\n",
      "Epoch 94/100\n",
      "235/235 [==============================] - 4s 15ms/step - loss: 0.0932 - val_loss: 0.0939\n",
      "Epoch 95/100\n",
      "235/235 [==============================] - 4s 15ms/step - loss: 0.0929 - val_loss: 0.0937\n",
      "Epoch 96/100\n",
      "235/235 [==============================] - 4s 16ms/step - loss: 0.0931 - val_loss: 0.0937\n",
      "Epoch 97/100\n",
      "235/235 [==============================] - 4s 16ms/step - loss: 0.0931 - val_loss: 0.0938\n",
      "Epoch 98/100\n",
      "235/235 [==============================] - 4s 16ms/step - loss: 0.0930 - val_loss: 0.0938\n",
      "Epoch 99/100\n",
      "235/235 [==============================] - 4s 16ms/step - loss: 0.0930 - val_loss: 0.0938\n",
      "Epoch 100/100\n",
      "235/235 [==============================] - 4s 15ms/step - loss: 0.0930 - val_loss: 0.0937\n"
     ]
    },
    {
     "data": {
      "text/plain": [
       "<keras.callbacks.History at 0x7ff40751ba10>"
      ]
     },
     "execution_count": 0,
     "metadata": {
      "tags": []
     },
     "output_type": "execute_result"
    }
   ],
   "source": [
    "autoencoder.fit(x_train_noisy, x_train, epochs = 100, batch_size = 256, shuffle = True, validation_data = (x_test_noisy, x_test))\n",
    "#also try for batch size 32, 64, 128\n",
    "#also try for epoch nums 10, 50, 100"
   ]
  },
  {
   "cell_type": "code",
   "execution_count": null,
   "metadata": {
    "colab": {
     "background_save": true
    },
    "id": "EoPxz3LxodLM",
    "outputId": "251cfe49-6216-4bf5-baaa-9061494074ff"
   },
   "outputs": [
    {
     "ename": "AttributeError",
     "evalue": "ignored",
     "output_type": "error",
     "traceback": [
      "\u001b[0;31m---------------------------------------------------------------------------\u001b[0m",
      "\u001b[0;31mAttributeError\u001b[0m                            Traceback (most recent call last)",
      "\u001b[0;32m<ipython-input-14-2df9cdf57a0e>\u001b[0m in \u001b[0;36m<module>\u001b[0;34m()\u001b[0m\n\u001b[1;32m     15\u001b[0m   \u001b[0;31m#temp = tf.make_ndarray(decoded[i])\u001b[0m\u001b[0;34m\u001b[0m\u001b[0;34m\u001b[0m\u001b[0;34m\u001b[0m\u001b[0m\n\u001b[1;32m     16\u001b[0m   \u001b[0;31m#plt.imshow(temp.reshape(28, 28))\u001b[0m\u001b[0;34m\u001b[0m\u001b[0;34m\u001b[0m\u001b[0;34m\u001b[0m\u001b[0m\n\u001b[0;32m---> 17\u001b[0;31m   \u001b[0mplt\u001b[0m\u001b[0;34m.\u001b[0m\u001b[0mimshow\u001b[0m\u001b[0;34m(\u001b[0m\u001b[0mtf\u001b[0m\u001b[0;34m.\u001b[0m\u001b[0mmake_ndarray\u001b[0m\u001b[0;34m(\u001b[0m\u001b[0mdecoded\u001b[0m\u001b[0;34m[\u001b[0m\u001b[0mi\u001b[0m\u001b[0;34m]\u001b[0m\u001b[0;34m)\u001b[0m\u001b[0;34m.\u001b[0m\u001b[0mreshape\u001b[0m\u001b[0;34m(\u001b[0m\u001b[0;36m28\u001b[0m\u001b[0;34m,\u001b[0m \u001b[0;36m28\u001b[0m\u001b[0;34m)\u001b[0m\u001b[0;34m)\u001b[0m\u001b[0;34m\u001b[0m\u001b[0;34m\u001b[0m\u001b[0m\n\u001b[0m\u001b[1;32m     18\u001b[0m   \u001b[0mplt\u001b[0m\u001b[0;34m.\u001b[0m\u001b[0mgray\u001b[0m\u001b[0;34m(\u001b[0m\u001b[0;34m)\u001b[0m\u001b[0;34m\u001b[0m\u001b[0;34m\u001b[0m\u001b[0m\n\u001b[1;32m     19\u001b[0m   \u001b[0max\u001b[0m\u001b[0;34m.\u001b[0m\u001b[0mget_xaxis\u001b[0m\u001b[0;34m(\u001b[0m\u001b[0;34m)\u001b[0m\u001b[0;34m.\u001b[0m\u001b[0mset_visible\u001b[0m\u001b[0;34m(\u001b[0m\u001b[0;32mFalse\u001b[0m\u001b[0;34m)\u001b[0m\u001b[0;34m\u001b[0m\u001b[0;34m\u001b[0m\u001b[0m\n",
      "\u001b[0;32m/usr/local/lib/python3.7/dist-packages/tensorflow/python/framework/tensor_util.py\u001b[0m in \u001b[0;36mMakeNdarray\u001b[0;34m(tensor)\u001b[0m\n\u001b[1;32m    595\u001b[0m \u001b[0;34m\u001b[0m\u001b[0m\n\u001b[1;32m    596\u001b[0m   \"\"\"\n\u001b[0;32m--> 597\u001b[0;31m   \u001b[0mshape\u001b[0m \u001b[0;34m=\u001b[0m \u001b[0;34m[\u001b[0m\u001b[0md\u001b[0m\u001b[0;34m.\u001b[0m\u001b[0msize\u001b[0m \u001b[0;32mfor\u001b[0m \u001b[0md\u001b[0m \u001b[0;32min\u001b[0m \u001b[0mtensor\u001b[0m\u001b[0;34m.\u001b[0m\u001b[0mtensor_shape\u001b[0m\u001b[0;34m.\u001b[0m\u001b[0mdim\u001b[0m\u001b[0;34m]\u001b[0m\u001b[0;34m\u001b[0m\u001b[0;34m\u001b[0m\u001b[0m\n\u001b[0m\u001b[1;32m    598\u001b[0m   \u001b[0mnum_elements\u001b[0m \u001b[0;34m=\u001b[0m \u001b[0mnp\u001b[0m\u001b[0;34m.\u001b[0m\u001b[0mprod\u001b[0m\u001b[0;34m(\u001b[0m\u001b[0mshape\u001b[0m\u001b[0;34m,\u001b[0m \u001b[0mdtype\u001b[0m\u001b[0;34m=\u001b[0m\u001b[0mnp\u001b[0m\u001b[0;34m.\u001b[0m\u001b[0mint64\u001b[0m\u001b[0;34m)\u001b[0m\u001b[0;34m\u001b[0m\u001b[0;34m\u001b[0m\u001b[0m\n\u001b[1;32m    599\u001b[0m   \u001b[0mtensor_dtype\u001b[0m \u001b[0;34m=\u001b[0m \u001b[0mdtypes\u001b[0m\u001b[0;34m.\u001b[0m\u001b[0mas_dtype\u001b[0m\u001b[0;34m(\u001b[0m\u001b[0mtensor\u001b[0m\u001b[0;34m.\u001b[0m\u001b[0mdtype\u001b[0m\u001b[0;34m)\u001b[0m\u001b[0;34m\u001b[0m\u001b[0;34m\u001b[0m\u001b[0m\n",
      "\u001b[0;31mAttributeError\u001b[0m: 'KerasTensor' object has no attribute 'tensor_shape'"
     ]
    },
    {
     "data": {
      "image/png": "[encoded data removed]",
      "text/plain": [
       "<Figure size 1440x288 with 2 Axes>"
      ]
     },
     "metadata": {
      "tags": []
     },
     "output_type": "display_data"
    }
   ],
   "source": [
    "import tensorflow as tf\n",
    "\n",
    "n = 10\n",
    "plt.figure(figsize = (20, 4))\n",
    "for i in range(1, n + 1):\n",
    "  #display original\n",
    "  ax = plt.subplot(2, n, i)\n",
    "  plt.imshow(x_test_noisy[i].reshape(28, 28))\n",
    "  plt.gray()\n",
    "  ax.get_xaxis().set_visible(False)\n",
    "  ax.get_yaxis().set_visible(False)\n",
    "\n",
    "  #display reconstruction\n",
    "  ax = plt.subplot(2, n, i + n)\n",
    "  #temp = tf.make_ndarray(decoded[i])\n",
    "  #plt.imshow(temp.reshape(28, 28))\n",
    "  plt.imshow(tf.make_ndarray(decoded[i]).reshape(28, 28))\n",
    "  plt.gray()\n",
    "  ax.get_xaxis().set_visible(False)\n",
    "  ax.get_yaxis().set_visible(False)\n",
    "plt.show()"
   ]
  }
 ],
 "metadata": {
  "accelerator": "GPU",
  "colab": {
   "collapsed_sections": [],
   "name": "Day21.ipynb",
   "provenance": []
  },
  "kernelspec": {
   "display_name": "Python 3",
   "name": "python3"
  },
  "language_info": {
   "name": "python"
  }
 },
 "nbformat": 4,
 "nbformat_minor": 0
}
